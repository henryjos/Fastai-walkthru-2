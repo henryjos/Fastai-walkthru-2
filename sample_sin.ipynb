{
 "cells": [
  {
   "cell_type": "markdown",
   "id": "5c6bace5-2826-45f2-b8ab-596325808ac3",
   "metadata": {},
   "source": [
    "## Walkthru sample notebook"
   ]
  },
  {
   "cell_type": "markdown",
   "id": "b4d5d795-8105-4e31-bba4-041e0b3943a5",
   "metadata": {},
   "source": [
    "Here is how to calculate `1+1`"
   ]
  },
  {
   "cell_type": "code",
   "execution_count": 1,
   "id": "19c00a42-b9dc-4d6d-8ed8-06863ca50fcc",
   "metadata": {},
   "outputs": [
    {
     "data": {
      "text/plain": [
       "2"
      ]
     },
     "execution_count": 1,
     "metadata": {},
     "output_type": "execute_result"
    }
   ],
   "source": [
    "1 + 1"
   ]
  },
  {
   "cell_type": "code",
   "execution_count": 2,
   "id": "c35ad42d-8aae-453b-85fd-a67d1a6db85d",
   "metadata": {},
   "outputs": [],
   "source": [
    "from numpy import *"
   ]
  },
  {
   "cell_type": "markdown",
   "id": "a118c028-b406-403f-9df1-6bb3d29d084f",
   "metadata": {},
   "source": [
    "Here is how I calculate  `sin`:"
   ]
  },
  {
   "cell_type": "code",
   "execution_count": 3,
   "id": "acbd5081-1896-4e75-9252-ffafa1ff29ee",
   "metadata": {},
   "outputs": [
    {
     "data": {
      "text/plain": [
       "array([0.84147098, 1.        ])"
      ]
     },
     "execution_count": 3,
     "metadata": {},
     "output_type": "execute_result"
    }
   ],
   "source": [
    "a = array([1.0, pi/2])\n",
    "sin(a)"
   ]
  },
  {
   "cell_type": "code",
   "execution_count": null,
   "id": "b803f112-40cb-45e4-8daa-b9ba0e37fae1",
   "metadata": {},
   "outputs": [],
   "source": []
  }
 ],
 "metadata": {
  "kernelspec": {
   "display_name": "Python 3 (ipykernel)",
   "language": "python",
   "name": "python3"
  },
  "language_info": {
   "codemirror_mode": {
    "name": "ipython",
    "version": 3
   },
   "file_extension": ".py",
   "mimetype": "text/x-python",
   "name": "python",
   "nbconvert_exporter": "python",
   "pygments_lexer": "ipython3",
   "version": "3.10.6"
  }
 },
 "nbformat": 4,
 "nbformat_minor": 5
}
